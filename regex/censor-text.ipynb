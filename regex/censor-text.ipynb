{
 "cells": [
  {
   "cell_type": "markdown",
   "metadata": {},
   "source": [
    "# Consor Text"
   ]
  },
  {
   "cell_type": "code",
   "execution_count": 1,
   "metadata": {},
   "outputs": [],
   "source": [
    "import pandas as pd"
   ]
  },
  {
   "cell_type": "markdown",
   "metadata": {},
   "source": [
    "## Censor PII"
   ]
  },
  {
   "cell_type": "code",
   "execution_count": 7,
   "metadata": {},
   "outputs": [],
   "source": [
    "def censor_pii(text) -> str:\n",
    "    import re\n",
    "    # Pattern for censoring age (e.g., 66-year-old)\n",
    "    text = re.sub(r'\\b\\d{1,3}-year-old\\b', '[censored-age]', text, flags=re.IGNORECASE)\n",
    "    \n",
    "    # Pattern for censoring gender (e.g., male, female, boy, girl)\n",
    "    text = re.sub(r'\\b(man|male|woman|female|boy|girl)\\b', '[censored-gender]', text, flags=re.IGNORECASE)\n",
    "    \n",
    "    # Pattern for censoring doctor's name (e.g., Dr. Arnuparp)\n",
    "    text = re.sub(r'\\bDr\\.?\\s+[A-Za-z]+\\b', '[censored-dr-name]', text, flags=re.IGNORECASE)\n",
    "    \n",
    "    # Pattern for censoring PCT number (e.g., PCT 48676)\n",
    "    text = re.sub(r'\\bPCT\\s*\\d+\\b', '[censored-tel]', text, flags=re.IGNORECASE)\n",
    "    \n",
    "    return text\n"
   ]
  },
  {
   "cell_type": "markdown",
   "metadata": {},
   "source": [
    "**Explanation:**\n",
    "\n",
    "- **Age**: `\\b\\d{1,3}-year-old\\b` matches a number (1-3 digits) followed by `-year-old`, where `\\b` ensures word boundaries so it doesn't match parts of other words.\n",
    "- **Gender**: `\\b(male|female|boy|girl)\\b` matches any of the specified gender-related words, using the word boundary `\\b` to match complete words only.\n",
    "- **Doctor's Name**: `\\bDr\\.?\\s+[A-Za-z]+\\b` matches \"Dr.\" (with or without a period) followed by a name (one or more alphabetic characters).\n",
    "- **PCT Number**: `\\bPCT\\s+\\d+\\b` matches \"PCT\" followed by one or more spaces and digits."
   ]
  },
  {
   "cell_type": "code",
   "execution_count": 4,
   "metadata": {},
   "outputs": [
    {
     "data": {
      "text/plain": [
       "'The patient is a [censored-age] [censored-gender]. He was treated by [censored-dr-name]. His [censored-tel] is recorded.'"
      ]
     },
     "execution_count": 4,
     "metadata": {},
     "output_type": "execute_result"
    }
   ],
   "source": [
    "text = \"The patient is a 66-year-old male. He was treated by Dr. Arnuparp. His PCT 48676 is recorded.\"\n",
    "censored_text = censor_pii(text)\n",
    "censored_text"
   ]
  },
  {
   "cell_type": "markdown",
   "metadata": {},
   "source": [
    "### Multiple Texts"
   ]
  },
  {
   "cell_type": "code",
   "execution_count": 10,
   "metadata": {},
   "outputs": [
    {
     "data": {
      "text/html": [
       "<div>\n",
       "<style scoped>\n",
       "    .dataframe tbody tr th:only-of-type {\n",
       "        vertical-align: middle;\n",
       "    }\n",
       "\n",
       "    .dataframe tbody tr th {\n",
       "        vertical-align: top;\n",
       "    }\n",
       "\n",
       "    .dataframe thead th {\n",
       "        text-align: right;\n",
       "    }\n",
       "</style>\n",
       "<table border=\"1\" class=\"dataframe\">\n",
       "  <thead>\n",
       "    <tr style=\"text-align: right;\">\n",
       "      <th></th>\n",
       "      <th>text</th>\n",
       "    </tr>\n",
       "  </thead>\n",
       "  <tbody>\n",
       "    <tr>\n",
       "      <th>0</th>\n",
       "      <td>The 35-year-old female visited Dr. Smith. Her ...</td>\n",
       "    </tr>\n",
       "    <tr>\n",
       "      <th>1</th>\n",
       "      <td>A 12-year-old boy came in for a checkup. Dr. O...</td>\n",
       "    </tr>\n",
       "    <tr>\n",
       "      <th>2</th>\n",
       "      <td>Dr. Catherine gave a prescription to the 55-ye...</td>\n",
       "    </tr>\n",
       "  </tbody>\n",
       "</table>\n",
       "</div>"
      ],
      "text/plain": [
       "                                                text\n",
       "0  The 35-year-old female visited Dr. Smith. Her ...\n",
       "1  A 12-year-old boy came in for a checkup. Dr. O...\n",
       "2  Dr. Catherine gave a prescription to the 55-ye..."
      ]
     },
     "execution_count": 10,
     "metadata": {},
     "output_type": "execute_result"
    }
   ],
   "source": [
    "text_ls  = [\n",
    "    \"The 35-year-old female visited Dr. Smith. Her PCT 12345 was submitted.\",\n",
    "    \"A 12-year-old boy came in for a checkup. Dr. O'Neill, and his PCT98765 was updated.\",\n",
    "    \"Dr. Catherine gave a prescription to the 55-year-old male. The patient's PCT 56789 was noted in the records.\"\n",
    "]\n",
    "\n",
    "text_df = pd.DataFrame({\"text\": text_ls})\n",
    "text_df"
   ]
  },
  {
   "cell_type": "code",
   "execution_count": 19,
   "metadata": {},
   "outputs": [
    {
     "data": {
      "text/html": [
       "<div>\n",
       "<style scoped>\n",
       "    .dataframe tbody tr th:only-of-type {\n",
       "        vertical-align: middle;\n",
       "    }\n",
       "\n",
       "    .dataframe tbody tr th {\n",
       "        vertical-align: top;\n",
       "    }\n",
       "\n",
       "    .dataframe thead th {\n",
       "        text-align: right;\n",
       "    }\n",
       "</style>\n",
       "<table border=\"1\" class=\"dataframe\">\n",
       "  <thead>\n",
       "    <tr style=\"text-align: right;\">\n",
       "      <th></th>\n",
       "      <th>text</th>\n",
       "      <th>text_censored</th>\n",
       "    </tr>\n",
       "  </thead>\n",
       "  <tbody>\n",
       "    <tr>\n",
       "      <th>0</th>\n",
       "      <td>The 35-year-old female visited Dr. Smith. Her ...</td>\n",
       "      <td>The [censored-age] [censored-gender] visited [...</td>\n",
       "    </tr>\n",
       "    <tr>\n",
       "      <th>1</th>\n",
       "      <td>A 12-year-old boy came in for a checkup. Dr. O...</td>\n",
       "      <td>A [censored-age] [censored-gender] came in for...</td>\n",
       "    </tr>\n",
       "    <tr>\n",
       "      <th>2</th>\n",
       "      <td>Dr. Catherine gave a prescription to the 55-ye...</td>\n",
       "      <td>[censored-dr-name] gave a prescription to the ...</td>\n",
       "    </tr>\n",
       "  </tbody>\n",
       "</table>\n",
       "</div>"
      ],
      "text/plain": [
       "                                                text  \\\n",
       "0  The 35-year-old female visited Dr. Smith. Her ...   \n",
       "1  A 12-year-old boy came in for a checkup. Dr. O...   \n",
       "2  Dr. Catherine gave a prescription to the 55-ye...   \n",
       "\n",
       "                                       text_censored  \n",
       "0  The [censored-age] [censored-gender] visited [...  \n",
       "1  A [censored-age] [censored-gender] came in for...  \n",
       "2  [censored-dr-name] gave a prescription to the ...  "
      ]
     },
     "execution_count": 19,
     "metadata": {},
     "output_type": "execute_result"
    }
   ],
   "source": [
    "text_df_mod = (text_df\n",
    " .pipe(lambda df: df.assign(text_censored = df[\"text\"].map(censor_pii))))\n",
    "\n",
    "text_df_mod"
   ]
  }
 ],
 "metadata": {
  "kernelspec": {
   "display_name": "llm-env",
   "language": "python",
   "name": "python3"
  },
  "language_info": {
   "codemirror_mode": {
    "name": "ipython",
    "version": 3
   },
   "file_extension": ".py",
   "mimetype": "text/x-python",
   "name": "python",
   "nbconvert_exporter": "python",
   "pygments_lexer": "ipython3",
   "version": "3.12.2"
  }
 },
 "nbformat": 4,
 "nbformat_minor": 2
}

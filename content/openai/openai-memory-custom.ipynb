{
 "cells": [
  {
   "cell_type": "markdown",
   "metadata": {},
   "source": [
    "# Custom Memory"
   ]
  },
  {
   "cell_type": "code",
   "execution_count": 2,
   "metadata": {},
   "outputs": [],
   "source": [
    "from pyhere import here\n",
    "import sys\n",
    "import os\n",
    "import pandas as pd\n",
    "sys.path.append(os.path.abspath('../..')) # adding the absolute path\n",
    "\n",
    "from openai import OpenAI\n",
    "client = OpenAI()\n"
   ]
  },
  {
   "cell_type": "markdown",
   "metadata": {},
   "source": [
    "## Text Only Memory"
   ]
  },
  {
   "cell_type": "markdown",
   "metadata": {},
   "source": [
    "#### Fn: Helper `_get_messages_user_assistant()` "
   ]
  },
  {
   "cell_type": "code",
   "execution_count": 42,
   "metadata": {},
   "outputs": [
    {
     "name": "stdout",
     "output_type": "stream",
     "text": [
      "[{'role': 'user', 'content': 'Hi'}, {'role': 'assistant', 'content': 'How can I help you?'}, {'role': 'user', 'content': 'Nothing'}, {'role': 'assistant', 'content': 'Bye'}]\n"
     ]
    }
   ],
   "source": [
    "from typing import List\n",
    "import pandas as pd\n",
    "\n",
    "mem_df = pd.DataFrame({\"user\": [\"Hi\", \"Nothing\"], \"assistant\": [\"How can I help you?\", \"Bye\"]})\n",
    "\n",
    "def _get_messages_user_assistant(mem_df: pd.DataFrame, \n",
    "                                 user_key = \"user\", \n",
    "                                 assistant_key = \"assistant\") -> list[dict]:\n",
    "    \"\"\"Convert user-assistant DataFrame into a list of message dictionaries.\"\"\"\n",
    "    messages = []\n",
    "    for i in range(len(mem_df)):\n",
    "        if mem_df[user_key][i]:  # Check if 'user' cell is not empty\n",
    "            messages.append({\"role\": user_key, \"content\": mem_df[user_key][i]})\n",
    "        if mem_df[assistant_key][i]:  # Check if 'assistant' cell is not empty\n",
    "            messages.append({\"role\": assistant_key, \"content\": mem_df[assistant_key][i]})\n",
    "    return messages\n",
    "\n",
    "# Example usage\n",
    "mem_df = pd.DataFrame({\"user\": [\"Hi\", \"Nothing\"], \"assistant\": [\"How can I help you?\", \"Bye\"]})\n",
    "messages = _get_messages_user_assistant(mem_df)\n",
    "print(messages)"
   ]
  },
  {
   "cell_type": "code",
   "execution_count": 56,
   "metadata": {},
   "outputs": [
    {
     "name": "stdout",
     "output_type": "stream",
     "text": [
      "Ha\n"
     ]
    }
   ],
   "source": [
    "mem_df = pd.DataFrame({\"user\": [\"Hi\", \"There\"], \"assistant\": [\"How can I...\", \"Hello\"]})\n",
    "mem_df.loc[1]\n",
    "\n",
    "mem_df.loc[1, \"assistant\"] = \"Ha\"\n",
    "# _get_messages_user_assistant(mem_df)"
   ]
  },
  {
   "cell_type": "markdown",
   "metadata": {},
   "source": [
    "#### Main Fn"
   ]
  },
  {
   "cell_type": "code",
   "execution_count": null,
   "metadata": {},
   "outputs": [
    {
     "data": {
      "text/html": [
       "<div>\n",
       "<style scoped>\n",
       "    .dataframe tbody tr th:only-of-type {\n",
       "        vertical-align: middle;\n",
       "    }\n",
       "\n",
       "    .dataframe tbody tr th {\n",
       "        vertical-align: top;\n",
       "    }\n",
       "\n",
       "    .dataframe thead th {\n",
       "        text-align: right;\n",
       "    }\n",
       "</style>\n",
       "<table border=\"1\" class=\"dataframe\">\n",
       "  <thead>\n",
       "    <tr style=\"text-align: right;\">\n",
       "      <th></th>\n",
       "      <th>user</th>\n",
       "      <th>assistant</th>\n",
       "    </tr>\n",
       "  </thead>\n",
       "  <tbody>\n",
       "    <tr>\n",
       "      <th>0</th>\n",
       "      <td>Hi, my name is Kittipos.</td>\n",
       "      <td>Hello, Kittipos! How can I assist you today?</td>\n",
       "    </tr>\n",
       "    <tr>\n",
       "      <th>1</th>\n",
       "      <td>What's my name?</td>\n",
       "      <td>Your name is Kittipos. How can I help you furt...</td>\n",
       "    </tr>\n",
       "  </tbody>\n",
       "</table>\n",
       "</div>"
      ],
      "text/plain": [
       "                       user                                          assistant\n",
       "0  Hi, my name is Kittipos.       Hello, Kittipos! How can I assist you today?\n",
       "1           What's my name?  Your name is Kittipos. How can I help you furt..."
      ]
     },
     "metadata": {},
     "output_type": "display_data"
    }
   ],
   "source": [
    "from typing import List\n",
    "import pandas as pd\n",
    "\n",
    "def get_completions_text_mem(prompts: List[str]):\n",
    "    \n",
    "    msg: List[dict[str, str]]\n",
    "    mem_df = pd.DataFrame({\"user\": [], \"assistant\": []})\n",
    "    \n",
    "    for i in range(len(prompts)):\n",
    "        # Get user text \n",
    "        mem_df.loc[i] = [prompts[i], None] \n",
    "        # Convert to user-assistance messages \n",
    "        msg = _get_messages_user_assistant(mem_df)\n",
    "        # Generate Response\n",
    "        completion = client.chat.completions.create(\n",
    "            model=\"gpt-4o\",\n",
    "            messages=[\n",
    "                {\"role\": \"system\", \"content\": \"You are a helpful assistant.\"},\n",
    "                *msg\n",
    "            ]\n",
    "        )\n",
    "        # response_text = \"Resp: \" + user_texts[i] # For Debug\n",
    "        response_text = completion.choices[0].message.content\n",
    "        # Update memory DF\n",
    "        mem_df.loc[i, \"assistant\"] = response_text\n",
    "        \n",
    "    return mem_df\n",
    "    \n",
    "get_completions_text_mem([\"Hi, my name is Kittipos.\", \"What's my name?\"])"
   ]
  }
 ],
 "metadata": {
  "kernelspec": {
   "display_name": "llm-env",
   "language": "python",
   "name": "python3"
  },
  "language_info": {
   "codemirror_mode": {
    "name": "ipython",
    "version": 3
   },
   "file_extension": ".py",
   "mimetype": "text/x-python",
   "name": "python",
   "nbconvert_exporter": "python",
   "pygments_lexer": "ipython3",
   "version": "3.12.2"
  }
 },
 "nbformat": 4,
 "nbformat_minor": 2
}

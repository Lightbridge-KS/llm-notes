{
 "cells": [
  {
   "cell_type": "markdown",
   "metadata": {},
   "source": [
    "# Custom Memory"
   ]
  },
  {
   "cell_type": "code",
   "execution_count": 25,
   "metadata": {},
   "outputs": [],
   "source": [
    "from pyhere import here\n",
    "import sys\n",
    "import os\n",
    "import pandas as pd\n",
    "sys.path.append(os.path.abspath('../..')) # adding the absolute path\n",
    "\n",
    "from openai import OpenAI\n",
    "client = OpenAI()\n"
   ]
  },
  {
   "cell_type": "markdown",
   "metadata": {},
   "source": [
    "## Text Only Memory"
   ]
  },
  {
   "cell_type": "markdown",
   "metadata": {},
   "source": [
    "#### Fn: Helper `_get_messages_user_assistant()` "
   ]
  },
  {
   "cell_type": "code",
   "execution_count": 42,
   "metadata": {},
   "outputs": [
    {
     "name": "stdout",
     "output_type": "stream",
     "text": [
      "[{'role': 'user', 'content': 'Hi'}, {'role': 'assistant', 'content': 'How can I help you?'}, {'role': 'user', 'content': 'Nothing'}, {'role': 'assistant', 'content': 'Bye'}]\n"
     ]
    }
   ],
   "source": [
    "from typing import List\n",
    "import pandas as pd\n",
    "\n",
    "\n",
    "def _get_messages_user_assistant_text(mem_df: pd.DataFrame, \n",
    "                                 user_key = \"user\", \n",
    "                                 assistant_key = \"assistant\") -> list[dict]:\n",
    "    \"\"\"Convert user-assistant DataFrame into a list of message dictionaries.\"\"\"\n",
    "    messages = []\n",
    "    for i in range(len(mem_df)):\n",
    "        if mem_df[user_key][i]:  # Check if 'user' cell is not empty\n",
    "            messages.append({\"role\": user_key, \"content\": mem_df[user_key][i]})\n",
    "        if mem_df[assistant_key][i]:  # Check if 'assistant' cell is not empty\n",
    "            messages.append({\"role\": assistant_key, \"content\": mem_df[assistant_key][i]})\n",
    "    return messages\n",
    "\n",
    "# Example usage\n",
    "mem_df = pd.DataFrame({\"user\": [\"Hi\", \"Nothing\"], \"assistant\": [\"How can I help you?\", \"Bye\"]})\n",
    "messages = _get_messages_user_assistant_text(mem_df)\n",
    "print(messages)"
   ]
  },
  {
   "cell_type": "code",
   "execution_count": 56,
   "metadata": {},
   "outputs": [
    {
     "name": "stdout",
     "output_type": "stream",
     "text": [
      "Ha\n"
     ]
    }
   ],
   "source": [
    "mem_df = pd.DataFrame({\"user\": [\"Hi\", \"There\"], \"assistant\": [\"How can I...\", \"Hello\"]})\n",
    "mem_df.loc[1]\n",
    "\n",
    "mem_df.loc[1, \"assistant\"] = \"Ha\"\n",
    "# _get_messages_user_assistant(mem_df)"
   ]
  },
  {
   "cell_type": "markdown",
   "metadata": {},
   "source": [
    "#### Main Fn"
   ]
  },
  {
   "cell_type": "code",
   "execution_count": null,
   "metadata": {},
   "outputs": [
    {
     "data": {
      "text/html": [
       "<div>\n",
       "<style scoped>\n",
       "    .dataframe tbody tr th:only-of-type {\n",
       "        vertical-align: middle;\n",
       "    }\n",
       "\n",
       "    .dataframe tbody tr th {\n",
       "        vertical-align: top;\n",
       "    }\n",
       "\n",
       "    .dataframe thead th {\n",
       "        text-align: right;\n",
       "    }\n",
       "</style>\n",
       "<table border=\"1\" class=\"dataframe\">\n",
       "  <thead>\n",
       "    <tr style=\"text-align: right;\">\n",
       "      <th></th>\n",
       "      <th>user</th>\n",
       "      <th>assistant</th>\n",
       "    </tr>\n",
       "  </thead>\n",
       "  <tbody>\n",
       "    <tr>\n",
       "      <th>0</th>\n",
       "      <td>Hi, my name is Kittipos.</td>\n",
       "      <td>Hello, Kittipos! How can I assist you today?</td>\n",
       "    </tr>\n",
       "    <tr>\n",
       "      <th>1</th>\n",
       "      <td>What's my name?</td>\n",
       "      <td>Your name is Kittipos. How can I help you furt...</td>\n",
       "    </tr>\n",
       "  </tbody>\n",
       "</table>\n",
       "</div>"
      ],
      "text/plain": [
       "                       user                                          assistant\n",
       "0  Hi, my name is Kittipos.       Hello, Kittipos! How can I assist you today?\n",
       "1           What's my name?  Your name is Kittipos. How can I help you furt..."
      ]
     },
     "metadata": {},
     "output_type": "display_data"
    }
   ],
   "source": [
    "from typing import List\n",
    "import pandas as pd\n",
    "\n",
    "def get_completions_text_mem_df(prompts: List[str], model = \"gpt-4o\"):\n",
    "    \n",
    "    msg: List[dict[str, str]]\n",
    "    mem_df = pd.DataFrame({\"user\": [], \"assistant\": []})\n",
    "    \n",
    "    for i in range(len(prompts)):\n",
    "        # Get user text \n",
    "        mem_df.loc[i] = [prompts[i], None] \n",
    "        # Convert to user-assistance messages \n",
    "        msg = _get_messages_user_assistant_text(mem_df)\n",
    "        # Generate Response\n",
    "        completion = client.chat.completions.create(\n",
    "            model=model,\n",
    "            messages=[\n",
    "                {\"role\": \"system\", \"content\": \"You are a helpful assistant.\"},\n",
    "                *msg\n",
    "            ]\n",
    "        )\n",
    "        # response_text = \"Resp: \" + user_texts[i] # For Debug\n",
    "        response_text = completion.choices[0].message.content\n",
    "        # Update memory DF\n",
    "        mem_df.loc[i, \"assistant\"] = response_text\n",
    "        \n",
    "    return mem_df\n",
    "    \n",
    "get_completions_text_mem_df([\"Hi, my name is Kittipos.\", \"What's my name?\"])"
   ]
  },
  {
   "cell_type": "markdown",
   "metadata": {},
   "source": [
    "## Vision Memory"
   ]
  },
  {
   "cell_type": "markdown",
   "metadata": {},
   "source": [
    "#### Helper: `_get_messages_user_assistant_text_image()`"
   ]
  },
  {
   "cell_type": "code",
   "execution_count": 26,
   "metadata": {},
   "outputs": [
    {
     "data": {
      "text/html": [
       "<div>\n",
       "<style scoped>\n",
       "    .dataframe tbody tr th:only-of-type {\n",
       "        vertical-align: middle;\n",
       "    }\n",
       "\n",
       "    .dataframe tbody tr th {\n",
       "        vertical-align: top;\n",
       "    }\n",
       "\n",
       "    .dataframe thead th {\n",
       "        text-align: right;\n",
       "    }\n",
       "</style>\n",
       "<table border=\"1\" class=\"dataframe\">\n",
       "  <thead>\n",
       "    <tr style=\"text-align: right;\">\n",
       "      <th></th>\n",
       "      <th>user_text</th>\n",
       "      <th>user_image_url</th>\n",
       "      <th>assistant_text</th>\n",
       "    </tr>\n",
       "  </thead>\n",
       "  <tbody>\n",
       "    <tr>\n",
       "      <th>0</th>\n",
       "      <td>Convert data from this image to markdown text</td>\n",
       "      <td>url1</td>\n",
       "      <td>out1</td>\n",
       "    </tr>\n",
       "    <tr>\n",
       "      <th>1</th>\n",
       "      <td>Convert data from this image to markdown text</td>\n",
       "      <td>url2</td>\n",
       "      <td>out2</td>\n",
       "    </tr>\n",
       "  </tbody>\n",
       "</table>\n",
       "</div>"
      ],
      "text/plain": [
       "                                       user_text user_image_url assistant_text\n",
       "0  Convert data from this image to markdown text           url1           out1\n",
       "1  Convert data from this image to markdown text           url2           out2"
      ]
     },
     "execution_count": 26,
     "metadata": {},
     "output_type": "execute_result"
    }
   ],
   "source": [
    "import pandas as pd\n",
    "\n",
    "mem_vision_df = pd.DataFrame({\n",
    "    \"user_text\": [\"Convert data from this image to markdown text\"] * 2,\n",
    "    \"user_image_url\": [\"url1\", \"url2\"],\n",
    "    \"assistant_text\": [\"out1\", \"out2\"]\n",
    "}) \n",
    "mem_vision_df"
   ]
  },
  {
   "cell_type": "code",
   "execution_count": 27,
   "metadata": {},
   "outputs": [
    {
     "data": {
      "text/plain": [
       "[{'role': 'user',\n",
       "  'content': [{'type': 'text',\n",
       "    'text': 'Convert data from this image to markdown text'},\n",
       "   {'type': 'image_url', 'image_url': {'url': 'url1', 'detail': 'high'}}]},\n",
       " {'role': 'assistant', 'content': 'out1'},\n",
       " {'role': 'user',\n",
       "  'content': [{'type': 'text',\n",
       "    'text': 'Convert data from this image to markdown text'},\n",
       "   {'type': 'image_url', 'image_url': {'url': 'url2', 'detail': 'high'}}]},\n",
       " {'role': 'assistant', 'content': 'out2'}]"
      ]
     },
     "execution_count": 27,
     "metadata": {},
     "output_type": "execute_result"
    }
   ],
   "source": [
    "def _get_messages_user_assistant_text_image(mem_vision_df: pd.DataFrame, image_detail = \"high\") -> list[dict]:\n",
    "    \"\"\"Convert user (text + image) + assistant DataFrame into a list of message dictionaries.\"\"\"\n",
    "    \n",
    "    messages: List[dict[str, str | List]] = []\n",
    "    for i in range(len(mem_vision_df)):\n",
    "        \n",
    "        user_text = mem_vision_df[\"user_text\"][i]\n",
    "        user_image_url = mem_vision_df[\"user_image_url\"][i]\n",
    "        assistant_text = mem_vision_df[\"assistant_text\"][i]\n",
    "        \n",
    "        if user_text and user_image_url:\n",
    "            messages.append({\"role\": \"user\", \n",
    "                             \"content\": [\n",
    "                                 {\"type\": \"text\", \"text\": user_text},\n",
    "                                 {\"type\": \"image_url\", \"image_url\": {\"url\": user_image_url, \"detail\": image_detail}}\n",
    "                             ]})\n",
    "        if assistant_text:\n",
    "            messages.append({\"role\": \"assistant\", \"content\": assistant_text})\n",
    "            \n",
    "    return messages\n",
    "\n",
    "_get_messages_user_assistant_text_image(mem_vision_df)"
   ]
  },
  {
   "cell_type": "code",
   "execution_count": 28,
   "metadata": {},
   "outputs": [
    {
     "data": {
      "text/html": [
       "<div>\n",
       "<style scoped>\n",
       "    .dataframe tbody tr th:only-of-type {\n",
       "        vertical-align: middle;\n",
       "    }\n",
       "\n",
       "    .dataframe tbody tr th {\n",
       "        vertical-align: top;\n",
       "    }\n",
       "\n",
       "    .dataframe thead th {\n",
       "        text-align: right;\n",
       "    }\n",
       "</style>\n",
       "<table border=\"1\" class=\"dataframe\">\n",
       "  <thead>\n",
       "    <tr style=\"text-align: right;\">\n",
       "      <th></th>\n",
       "      <th>user_text</th>\n",
       "      <th>user_image_url</th>\n",
       "      <th>assistant_text</th>\n",
       "    </tr>\n",
       "  </thead>\n",
       "  <tbody>\n",
       "    <tr>\n",
       "      <th>0</th>\n",
       "      <td>Convert data from this image to markdown text</td>\n",
       "      <td>url1</td>\n",
       "      <td>out1</td>\n",
       "    </tr>\n",
       "    <tr>\n",
       "      <th>1</th>\n",
       "      <td>Convert data from this image to markdown text</td>\n",
       "      <td>url2</td>\n",
       "      <td>out2</td>\n",
       "    </tr>\n",
       "  </tbody>\n",
       "</table>\n",
       "</div>"
      ],
      "text/plain": [
       "                                       user_text user_image_url assistant_text\n",
       "0  Convert data from this image to markdown text           url1           out1\n",
       "1  Convert data from this image to markdown text           url2           out2"
      ]
     },
     "execution_count": 28,
     "metadata": {},
     "output_type": "execute_result"
    }
   ],
   "source": [
    "mem_vision_df\n"
   ]
  },
  {
   "cell_type": "markdown",
   "metadata": {},
   "source": [
    "#### Main Fn"
   ]
  },
  {
   "cell_type": "code",
   "execution_count": 71,
   "metadata": {},
   "outputs": [],
   "source": [
    "from typing import List\n",
    "import pandas as pd\n",
    "\n",
    "def get_completions_vision_mem_df(image_prompt: str, \n",
    "                                  image_urls: List[str] | None = None, \n",
    "                                  base64_images: List[str] | None = None, \n",
    "                                  system_prompt: str = \"You are a helpful assistant.\",\n",
    "                                  model = \"gpt-4o\"):\n",
    "    \n",
    "    msg: List[dict[str, str | List]] = []\n",
    "    mem_vision_df = pd.DataFrame({\"user_text\": [], \"user_image_url\": [], \"assistant_text\": []})\n",
    "    \n",
    "    if all([base64_images, image_urls]):\n",
    "        raise ValueError(\"Must choose one of: `image_prompt` or `image_urls`\")\n",
    "    \n",
    "    # If Provided `base64_images`, ignore `image_urls`\n",
    "    if base64_images:\n",
    "        image_urls = [f\"data:image/png;base64,{base64_image}\" for base64_image in base64_images]\n",
    "    \n",
    "    for i in range(len(image_urls)):\n",
    "        \n",
    "        # Add Image prompt and URL to Memory DF\n",
    "        mem_vision_df.loc[i] = [image_prompt, image_urls[i], None]\n",
    "        \n",
    "        # Convert to user-assistance messages\n",
    "        msg = _get_messages_user_assistant_text_image(mem_vision_df)\n",
    "        \n",
    "        # Generate Response\n",
    "        completion = client.chat.completions.create(\n",
    "            model=model,\n",
    "            messages=[\n",
    "                {\"role\": \"system\", \"content\": system_prompt},\n",
    "                *msg\n",
    "            ]\n",
    "        )\n",
    "        response_text = completion.choices[0].message.content\n",
    "        # response_text = \"Resp: \" + image_prompt # For Debug\n",
    "        \n",
    "        # Update memory DF\n",
    "        mem_vision_df.loc[i, \"assistant_text\"] = response_text \n",
    "        \n",
    "    return mem_vision_df\n"
   ]
  },
  {
   "cell_type": "markdown",
   "metadata": {},
   "source": [
    "### Vision Mem Execute"
   ]
  },
  {
   "cell_type": "code",
   "execution_count": 63,
   "metadata": {},
   "outputs": [
    {
     "data": {
      "text/html": [
       "<div>\n",
       "<style scoped>\n",
       "    .dataframe tbody tr th:only-of-type {\n",
       "        vertical-align: middle;\n",
       "    }\n",
       "\n",
       "    .dataframe tbody tr th {\n",
       "        vertical-align: top;\n",
       "    }\n",
       "\n",
       "    .dataframe thead th {\n",
       "        text-align: right;\n",
       "    }\n",
       "</style>\n",
       "<table border=\"1\" class=\"dataframe\">\n",
       "  <thead>\n",
       "    <tr style=\"text-align: right;\">\n",
       "      <th></th>\n",
       "      <th>user_text</th>\n",
       "      <th>user_image_url</th>\n",
       "      <th>assistant_text</th>\n",
       "    </tr>\n",
       "  </thead>\n",
       "  <tbody>\n",
       "    <tr>\n",
       "      <th>0</th>\n",
       "      <td>Give exactly 3 words that gives impression to ...</td>\n",
       "      <td>https://upload.wikimedia.org/wikipedia/commons...</td>\n",
       "      <td>Resp: Give exactly 3 words that gives impressi...</td>\n",
       "    </tr>\n",
       "    <tr>\n",
       "      <th>1</th>\n",
       "      <td>Give exactly 3 words that gives impression to ...</td>\n",
       "      <td>https://upload.wikimedia.org/wikipedia/commons...</td>\n",
       "      <td>Resp: Give exactly 3 words that gives impressi...</td>\n",
       "    </tr>\n",
       "  </tbody>\n",
       "</table>\n",
       "</div>"
      ],
      "text/plain": [
       "                                           user_text  \\\n",
       "0  Give exactly 3 words that gives impression to ...   \n",
       "1  Give exactly 3 words that gives impression to ...   \n",
       "\n",
       "                                      user_image_url  \\\n",
       "0  https://upload.wikimedia.org/wikipedia/commons...   \n",
       "1  https://upload.wikimedia.org/wikipedia/commons...   \n",
       "\n",
       "                                      assistant_text  \n",
       "0  Resp: Give exactly 3 words that gives impressi...  \n",
       "1  Resp: Give exactly 3 words that gives impressi...  "
      ]
     },
     "execution_count": 63,
     "metadata": {},
     "output_type": "execute_result"
    }
   ],
   "source": [
    "# Image URL\n",
    "\n",
    "resp_vision_df_1 = get_completions_vision_mem_df(image_prompt=\"Give exactly 3 words that gives impression to this image\",\n",
    "                                               image_urls = [\"https://upload.wikimedia.org/wikipedia/commons/thumb/d/dd/Gfp-wisconsin-madison-the-nature-boardwalk.jpg/2560px-Gfp-wisconsin-madison-the-nature-boardwalk.jpg\", \n",
    "                                            \"https://upload.wikimedia.org/wikipedia/commons/f/f0/Hintersee-Hochkalter.jpg\"] \n",
    "                              )\n",
    "resp_vision_df_1"
   ]
  },
  {
   "cell_type": "code",
   "execution_count": 51,
   "metadata": {},
   "outputs": [],
   "source": [
    "import base64\n",
    "\n",
    "def encode_image(image_path):\n",
    "  with open(image_path, \"rb\") as image_file:\n",
    "    return base64.b64encode(image_file.read()).decode('utf-8')"
   ]
  },
  {
   "cell_type": "code",
   "execution_count": 59,
   "metadata": {},
   "outputs": [],
   "source": [
    "img_paths = [\"../../img/misc/70.png\", \"../../img/misc/100.png\"]\n",
    "imgs_enc = [encode_image(img_path) for img_path in img_paths]"
   ]
  },
  {
   "cell_type": "code",
   "execution_count": 65,
   "metadata": {},
   "outputs": [],
   "source": [
    "resp_vision_df_2 = get_completions_vision_mem_df(image_prompt=\"What is the speed?\", \n",
    "                                                 system_prompt=\"\"\"\n",
    "                                                 You are the car speed reporter. Report the current speed and previous speed in the prior image (if provided).\n",
    "                                                 \"\"\",\n",
    "                                                 base64_images=imgs_enc)"
   ]
  },
  {
   "cell_type": "code",
   "execution_count": 70,
   "metadata": {},
   "outputs": [
    {
     "data": {
      "text/plain": [
       "['The current speed is 100 kilometers per hour.',\n",
       " 'The current speed is 110 kilometers per hour. The previous speed was 100 kilometers per hour.']"
      ]
     },
     "execution_count": 70,
     "metadata": {},
     "output_type": "execute_result"
    }
   ],
   "source": [
    "resp_vision_df_2[\"assistant_text\"].to_list()"
   ]
  }
 ],
 "metadata": {
  "kernelspec": {
   "display_name": "llm-env",
   "language": "python",
   "name": "python3"
  },
  "language_info": {
   "codemirror_mode": {
    "name": "ipython",
    "version": 3
   },
   "file_extension": ".py",
   "mimetype": "text/x-python",
   "name": "python",
   "nbconvert_exporter": "python",
   "pygments_lexer": "ipython3",
   "version": "3.12.2"
  }
 },
 "nbformat": 4,
 "nbformat_minor": 2
}

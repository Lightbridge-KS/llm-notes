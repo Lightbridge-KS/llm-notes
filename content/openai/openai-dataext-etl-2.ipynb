{
 "cells": [
  {
   "cell_type": "markdown",
   "metadata": {},
   "source": [
    "# Data Extraction (Part 2)\n",
    "\n",
    "**Transforming data according to a schema**\n",
    "\n",
    "Data Extraction Workflow: <https://cookbook.openai.com/examples/data_extraction_transformation>"
   ]
  },
  {
   "cell_type": "code",
   "execution_count": 10,
   "metadata": {},
   "outputs": [],
   "source": [
    "from pyhere import here\n",
    "import os\n",
    "import json\n",
    "\n",
    "from openai import OpenAI\n",
    "\n",
    "\n",
    "api_key = os.getenv(\"OPENAI_API_KEY\")\n",
    "client = OpenAI(api_key=api_key)"
   ]
  },
  {
   "cell_type": "markdown",
   "metadata": {},
   "source": [
    "## Schema"
   ]
  },
  {
   "cell_type": "code",
   "execution_count": 4,
   "metadata": {},
   "outputs": [
    {
     "data": {
      "text/plain": [
       "[{'hotel_information': {'name': 'string',\n",
       "   'address': {'street': 'string',\n",
       "    'city': 'string',\n",
       "    'country': 'string',\n",
       "    'postal_code': 'string'},\n",
       "   'contact': {'phone': 'string',\n",
       "    'fax': 'string',\n",
       "    'email': 'string',\n",
       "    'website': 'string'}},\n",
       "  'guest_information': {'company': 'string',\n",
       "   'address': 'string',\n",
       "   'guest_name': 'string'},\n",
       "  'invoice_information': {'invoice_number': 'string',\n",
       "   'reservation_number': 'string',\n",
       "   'date': 'YYYY-MM-DD',\n",
       "   'room_number': 'string',\n",
       "   'check_in_date': 'YYYY-MM-DD',\n",
       "   'check_out_date': 'YYYY-MM-DD'},\n",
       "  'charges': [{'date': 'YYYY-MM-DD',\n",
       "    'description': 'string',\n",
       "    'charge': 'number',\n",
       "    'credit': 'number'}],\n",
       "  'totals_summary': {'currency': 'string',\n",
       "   'total_net': 'number',\n",
       "   'total_tax': 'number',\n",
       "   'total_gross': 'number',\n",
       "   'total_charge': 'number',\n",
       "   'total_credit': 'number',\n",
       "   'balance_due': 'number'},\n",
       "  'taxes': [{'tax_type': 'string',\n",
       "    'tax_rate': 'string',\n",
       "    'net_amount': 'number',\n",
       "    'tax_amount': 'number',\n",
       "    'gross_amount': 'number'}]}]"
      ]
     },
     "execution_count": 4,
     "metadata": {},
     "output_type": "execute_result"
    }
   ],
   "source": [
    "with open(here(\"input/json/invoice-schema.json\"), 'r') as file:\n",
    "    invoice_schema = json.load(file)\n",
    "     \n",
    "invoice_schema"
   ]
  },
  {
   "cell_type": "markdown",
   "metadata": {},
   "source": [
    "## Transform"
   ]
  },
  {
   "cell_type": "code",
   "execution_count": 5,
   "metadata": {},
   "outputs": [],
   "source": [
    "def transform_invoice_data(json_raw, json_schema):\n",
    "    system_prompt = f\"\"\"\n",
    "    You are a data transformation tool that takes in JSON data and a reference JSON schema, and outputs JSON data according to the schema.\n",
    "    Not all of the data in the input JSON will fit the schema, so you may need to omit some data or add null values to the output JSON.\n",
    "    Translate all data into English if not already in English.\n",
    "    Ensure values are formatted as specified in the schema (e.g. dates as YYYY-MM-DD).\n",
    "    Here is the schema:\n",
    "    {json_schema}\n",
    "\n",
    "    \"\"\"\n",
    "    \n",
    "    response = client.chat.completions.create(\n",
    "        model=\"gpt-4o\",\n",
    "        response_format={ \"type\": \"json_object\" },\n",
    "        messages=[\n",
    "            {\n",
    "                \"role\": \"system\",\n",
    "                \"content\": system_prompt\n",
    "            },\n",
    "            {\n",
    "                \"role\": \"user\",\n",
    "                \"content\": [\n",
    "                    {\"type\": \"text\", \"text\": f\"Transform the following raw JSON data according to the provided schema. Ensure all data is in English and formatted as specified by values in the schema. Here is the raw JSON: {json_raw}\"}\n",
    "                ]\n",
    "            }\n",
    "        ],\n",
    "        temperature=0.0,\n",
    "    )\n",
    "    return json.loads(response.choices[0].message.content)"
   ]
  },
  {
   "cell_type": "code",
   "execution_count": 6,
   "metadata": {},
   "outputs": [],
   "source": [
    "def main_transform(extracted_invoice_json_path, json_schema_path, save_path):\n",
    "    # Load the JSON schema\n",
    "    with open(json_schema_path, 'r', encoding='utf-8') as f:\n",
    "        json_schema = json.load(f)\n",
    "\n",
    "    # Ensure the save directory exists\n",
    "    os.makedirs(save_path, exist_ok=True)\n",
    "\n",
    "    # Process each JSON file in the extracted invoices directory\n",
    "    for filename in os.listdir(extracted_invoice_json_path):\n",
    "        if filename.endswith(\".json\"):\n",
    "            file_path = os.path.join(extracted_invoice_json_path, filename)\n",
    "\n",
    "            # Load the extracted JSON\n",
    "            with open(file_path, 'r', encoding='utf-8') as f:\n",
    "                json_raw = json.load(f)\n",
    "\n",
    "            # Transform the JSON data\n",
    "            transformed_json = transform_invoice_data(json_raw, json_schema)\n",
    "\n",
    "            # Save the transformed JSON to the save directory\n",
    "            transformed_filename = f\"transformed_{filename}\"\n",
    "            transformed_file_path = os.path.join(save_path, transformed_filename)\n",
    "            with open(transformed_file_path, 'w', encoding='utf-8') as f:\n",
    "                json.dump(transformed_json, f, ensure_ascii=False, indent=2)\n",
    "\n",
    "   "
   ]
  },
  {
   "cell_type": "markdown",
   "metadata": {},
   "source": [
    "## Execute !"
   ]
  },
  {
   "cell_type": "code",
   "execution_count": 11,
   "metadata": {},
   "outputs": [],
   "source": [
    "extracted_invoice_json_path = here(\"output/json/extracted_invoice_json\")\n",
    "json_schema_path = here(\"input/json/invoice-schema.json\")\n",
    "save_path = here(\"output/json/transformed_invoice_json\")\n",
    "\n",
    "main_transform(extracted_invoice_json_path, json_schema_path, save_path)"
   ]
  },
  {
   "cell_type": "code",
   "execution_count": 12,
   "metadata": {},
   "outputs": [
    {
     "data": {
      "text/plain": [
       "{'hotel_information': {'name': 'MADISON Hotel GmbH',\n",
       "  'address': {'street': 'Schaarsteinweg 4',\n",
       "   'city': 'Hamburg',\n",
       "   'country': 'Germany',\n",
       "   'postal_code': '20459'},\n",
       "  'contact': {'phone': '+49-40-37 666-0',\n",
       "   'fax': '+49-40-37 666-137',\n",
       "   'email': 'info@madisonhotel.de',\n",
       "   'website': 'madisonhotel.de'}},\n",
       " 'guest_information': {'company': 'APImeiseter Consulting GmbH',\n",
       "  'address': 'Friedrichstr. 123, 10117 Berlin',\n",
       "  'guest_name': 'Mr. Jens Walter'},\n",
       " 'invoice_information': {'invoice_number': '487155 /',\n",
       "  'reservation_number': None,\n",
       "  'date': '2019-01-18',\n",
       "  'room_number': '417',\n",
       "  'check_in_date': '2019-01-13',\n",
       "  'check_out_date': '2019-01-18'},\n",
       " 'charges': [{'date': '2019-01-13',\n",
       "   'description': 'Overnight stay excluding breakfast',\n",
       "   'charge': 110.0,\n",
       "   'credit': 0.0},\n",
       "  {'date': '2019-01-14',\n",
       "   'description': 'Overnight stay excluding breakfast',\n",
       "   'charge': 110.0,\n",
       "   'credit': 0.0},\n",
       "  {'date': '2019-01-15',\n",
       "   'description': 'Overnight stay excluding breakfast',\n",
       "   'charge': 110.0,\n",
       "   'credit': 0.0},\n",
       "  {'date': '2019-01-16',\n",
       "   'description': 'Overnight stay excluding breakfast',\n",
       "   'charge': 110.0,\n",
       "   'credit': 0.0},\n",
       "  {'date': '2019-01-17',\n",
       "   'description': 'Overnight stay excluding breakfast',\n",
       "   'charge': 110.0,\n",
       "   'credit': 0.0},\n",
       "  {'date': '2019-01-18',\n",
       "   'description': 'Mastercard IFC',\n",
       "   'charge': 0.0,\n",
       "   'credit': 550.0}],\n",
       " 'totals_summary': {'currency': 'EUR',\n",
       "  'total_net': 514.02,\n",
       "  'total_tax': 35.98,\n",
       "  'total_gross': 550.0,\n",
       "  'total_charge': 550.0,\n",
       "  'total_credit': 550.0,\n",
       "  'balance_due': 0.0},\n",
       " 'taxes': [{'tax_type': 'VAT 7%',\n",
       "   'tax_rate': '7%',\n",
       "   'net_amount': 514.02,\n",
       "   'tax_amount': 35.98,\n",
       "   'gross_amount': 550.0}]}"
      ]
     },
     "execution_count": 12,
     "metadata": {},
     "output_type": "execute_result"
    }
   ],
   "source": [
    "with open(here(\"output/json/transformed_invoice_json/transformed_20190119_002_extracted.json\"), 'r') as file:\n",
    "    invoice_out_1 = json.load(file)\n",
    "     \n",
    "invoice_out_1"
   ]
  }
 ],
 "metadata": {
  "kernelspec": {
   "display_name": "llm-env",
   "language": "python",
   "name": "python3"
  },
  "language_info": {
   "codemirror_mode": {
    "name": "ipython",
    "version": 3
   },
   "file_extension": ".py",
   "mimetype": "text/x-python",
   "name": "python",
   "nbconvert_exporter": "python",
   "pygments_lexer": "ipython3",
   "version": "3.12.2"
  }
 },
 "nbformat": 4,
 "nbformat_minor": 2
}

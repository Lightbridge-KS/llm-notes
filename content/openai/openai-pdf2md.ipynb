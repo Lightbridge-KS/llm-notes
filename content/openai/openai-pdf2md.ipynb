{
 "cells": [
  {
   "cell_type": "markdown",
   "metadata": {},
   "source": [
    "# PDF to Markdown"
   ]
  },
  {
   "cell_type": "code",
   "execution_count": 2,
   "metadata": {},
   "outputs": [],
   "source": [
    "from pyhere import here\n",
    "import sys\n",
    "import os\n",
    "from pathlib import Path\n",
    "from openai import OpenAI\n",
    "from IPython.display import display_markdown\n",
    "\n",
    "sys.path.append(os.path.abspath('../..'))\n",
    "\n",
    "api_key = os.getenv(\"OPENAI_API_KEY\")\n",
    "client = OpenAI(api_key=api_key)"
   ]
  },
  {
   "cell_type": "markdown",
   "metadata": {},
   "source": [
    "## Final Wrapper"
   ]
  },
  {
   "cell_type": "code",
   "execution_count": 3,
   "metadata": {},
   "outputs": [],
   "source": [
    "from src.openai_tools import ocr_pdf_to_markdown"
   ]
  },
  {
   "cell_type": "code",
   "execution_count": 6,
   "metadata": {},
   "outputs": [
    {
     "name": "stdout",
     "output_type": "stream",
     "text": [
      "CPU times: user 1.24 s, sys: 57.9 ms, total: 1.3 s\n",
      "Wall time: 3min 46s\n"
     ]
    }
   ],
   "source": [
    "%%time\n",
    "cochran_md = ocr_pdf_to_markdown(here(\"pdf/textbook/Cochran_1977_SamplingTechniques_Ch1.pdf\"),\n",
    "                                 model = \"gpt-4o\")"
   ]
  },
  {
   "cell_type": "code",
   "execution_count": 7,
   "metadata": {},
   "outputs": [],
   "source": [
    "\n",
    "\n",
    "file_path = Path(here(\"output/markdown/Cochran_1977_SamplingTechniques_Ch1.md\"))\n",
    "with open(file_path, 'w', encoding='utf-8') as file:\n",
    "    # Write the string of text to the file\n",
    "    file.write(cochran_md)"
   ]
  },
  {
   "cell_type": "code",
   "execution_count": 4,
   "metadata": {},
   "outputs": [
    {
     "name": "stdout",
     "output_type": "stream",
     "text": [
      "CPU times: user 484 ms, sys: 29.8 ms, total: 514 ms\n",
      "Wall time: 1min 24s\n"
     ]
    }
   ],
   "source": [
    "%%time\n",
    "tirads_md = ocr_pdf_to_markdown(here(\"pdf/paper/TI-RADS_A User’s Guide.pdf\"),\n",
    "                                 model = \"gpt-4o-2024-08-06\")"
   ]
  },
  {
   "cell_type": "code",
   "execution_count": 5,
   "metadata": {},
   "outputs": [],
   "source": [
    "file_path = Path(here(\"output/markdown/TI-RADS_A-User-Guide.md\"))\n",
    "with open(file_path, 'w', encoding='utf-8') as file:\n",
    "    # Write the string of text to the file\n",
    "    file.write(tirads_md)"
   ]
  },
  {
   "cell_type": "markdown",
   "metadata": {},
   "source": [
    "## Extract: PDF -> Base64 Image"
   ]
  },
  {
   "cell_type": "code",
   "execution_count": 2,
   "metadata": {},
   "outputs": [],
   "source": [
    "from src.pdftools import pdf_to_base64_images\n",
    "\n",
    "cochran_img_base64 = pdf_to_base64_images(here(\"pdf/textbook/Cochran_1977_SamplingTechniques_Ch1.pdf\"))\n",
    "cochran_pg14_img_base64 = pdf_to_base64_images(here(\"pdf/textbook/Cochran_1977_SamplingTechniques_Ch1_pg14.pdf\"))"
   ]
  },
  {
   "cell_type": "markdown",
   "metadata": {},
   "source": [
    "## LLM: OCR to Markdown"
   ]
  },
  {
   "cell_type": "code",
   "execution_count": 4,
   "metadata": {},
   "outputs": [
    {
     "name": "stderr",
     "output_type": "stream",
     "text": [
      "<>:18: SyntaxWarning: invalid escape sequence '\\p'\n",
      "<>:18: SyntaxWarning: invalid escape sequence '\\p'\n",
      "/var/folders/70/7wmmf6t55cb84bfx9g1c1k1m0000gn/T/ipykernel_70768/3346470672.py:18: SyntaxWarning: invalid escape sequence '\\p'\n",
      "  \"\"\"\n"
     ]
    }
   ],
   "source": [
    "def ocr_single_image_to_markdown(base64_image, \n",
    "                                 model = \"gpt-4o\",\n",
    "                                 md_format = \"Github-flavored markdown\",\n",
    "                                 heading_lv_max = \"H2\"\n",
    "                                 ):\n",
    "    system_prompt = f\"\"\"\n",
    "    You are an advanced OCR-based data extraction tool designed to convert text, tables, and structured content from images into {md_format}. Ensure the output retains the original layout and information integrity as closely as possible. Include headers, bullet points, or tables where appropriate, and optimize for readability in Markdown syntax.\n",
    "    \n",
    "    **Heading level:** The highest level of heading is {heading_lv_max}. \n",
    "    **LaTeX Math expression**\n",
    "    - Inline: surround the inline expression with dollar symbols, for example: $1+1 = 2$\n",
    "    - Blocks: delimit the block expression with two dollar symbols, for example:\n",
    "      $$\n",
    "      E = m \\times c^2 \n",
    "      $$\n",
    "    \n",
    "    Return markdown text output without enclosing in code block. If the image is blank or no appropriate content can be extracted, return empty text string (\"\").  \n",
    "    \"\"\"\n",
    "    \n",
    "    response = client.chat.completions.create(\n",
    "        model=model,\n",
    "        messages=[\n",
    "            {\n",
    "                \"role\": \"system\",\n",
    "                \"content\": system_prompt\n",
    "            },\n",
    "            {\n",
    "                \"role\": \"user\",\n",
    "                \"content\": [\n",
    "                    {\"type\": \"text\", \"text\": \"Convert data from this image to markdown text\"},\n",
    "                    {\"type\": \"image_url\", \"image_url\": {\"url\": f\"data:image/png;base64,{base64_image}\", \"detail\": \"high\"}}\n",
    "                ]\n",
    "            }\n",
    "        ],\n",
    "        temperature=0.0,\n",
    "    )\n",
    "    return response.choices[0].message.content\n"
   ]
  },
  {
   "cell_type": "markdown",
   "metadata": {},
   "source": [
    "## Extract One Image"
   ]
  },
  {
   "cell_type": "markdown",
   "metadata": {},
   "source": [
    "### First Page"
   ]
  },
  {
   "cell_type": "code",
   "execution_count": 72,
   "metadata": {},
   "outputs": [],
   "source": [
    "cochran_img_md_0 = ocr_single_image_to_markdown(cochran_img_base64)"
   ]
  },
  {
   "cell_type": "code",
   "execution_count": 44,
   "metadata": {},
   "outputs": [
    {
     "name": "stdout",
     "output_type": "stream",
     "text": [
      "## Sampling Techniques\n",
      "\n",
      "*third edition*\n",
      "\n",
      "**WILLIAM G. COCHRAN**  \n",
      "*Professor of Statistics, Emeritus  \n",
      "Harvard University*\n",
      "\n",
      "**JOHN WILEY & SONS**  \n",
      "New York • Chichester • Brisbane • Toronto • Singapore\n"
     ]
    }
   ],
   "source": [
    "display_markdown(print(cochran_img_md_0))"
   ]
  },
  {
   "cell_type": "markdown",
   "metadata": {},
   "source": [
    "### Page with Equation & Table"
   ]
  },
  {
   "cell_type": "code",
   "execution_count": 5,
   "metadata": {},
   "outputs": [
    {
     "name": "stdout",
     "output_type": "stream",
     "text": [
      "## Table 1.1  \n",
      "**Effect of a Bias $B$ on the Probability of an Error Greater than 1.96$\\sigma$**\n",
      "\n",
      "| $B/\\sigma$ | Probability of Error < -1.96$\\sigma$ | > 1.96$\\sigma$ | Total  |\n",
      "|------------|--------------------------------------|----------------|--------|\n",
      "| 0.02       | 0.0228                               | 0.0262         | 0.0500 |\n",
      "| 0.04       | 0.0228                               | 0.0274         | 0.0502 |\n",
      "| 0.06       | 0.0217                               | 0.0287         | 0.0504 |\n",
      "| 0.08       | 0.0197                               | 0.0314         | 0.0511 |\n",
      "| 0.10       | 0.0170                               | 0.0341         | 0.0511 |\n",
      "| 0.20       | 0.0154                               | 0.0392         | 0.0546 |\n",
      "| 0.40       | 0.0052                               | 0.0594         | 0.0646 |\n",
      "| 0.60       | 0.0025                               | 0.0869         | 0.0894 |\n",
      "| 0.80       | 0.0029                               | 0.1200         | 0.1229 |\n",
      "| 1.00       | 0.0015                               | 0.1685         | 0.1700 |\n",
      "| 1.50       | 0.0003                               | 0.3228         | 0.3231 |\n",
      "\n",
      "For the total probability of an error of more than 1.96$\\sigma$, the bias has little effect provided that it is less than one tenth of the standard deviation. At this point, the total probability is 0.0511 instead of the 0.05 that we think it is. As the bias increases further, the disturbance becomes more serious. At $B = \\sigma$, the total probability of error is 0.17, more than three times the presumed value.\n",
      "\n",
      "The two tails are affected differently. With a positive bias, as in this example, the probability of an underestimate by more than 1.96$\\sigma$ shrinks rapidly from the presumed 0.025 to become negligible when $B = \\sigma$. The probability of the corresponding overestimate mounts steadily. In most applications, the total error is the primary interest, but occasionally we are particularly interested in errors in one direction.\n",
      "\n",
      "As a working rule, the effect of bias on the accuracy of an estimate is negligible if the bias is less than one tenth of the standard deviation of the estimate. If we have a biased method of estimation for which $B/\\sigma < 0.1$, where $B$ is the absolute value of the bias, it can be claimed that the bias is not an appreciable disadvantage of the method.\n"
     ]
    }
   ],
   "source": [
    "cochran_pg14_md = ocr_single_image_to_markdown(cochran_pg14_img_base64)\n",
    "display_markdown(print(cochran_pg14_md))"
   ]
  },
  {
   "cell_type": "code",
   "execution_count": 7,
   "metadata": {},
   "outputs": [
    {
     "name": "stdout",
     "output_type": "stream",
     "text": [
      "## TABLE 1.1\n",
      "### Effect of a Bias $B$ on the Probability of an Error Greater than 1.96σ\n",
      "\n",
      "| $B/\\sigma$ | Probability of Error |\n",
      "|------------|----------------------|\n",
      "|            | $< -1.96$           | $> 1.96$ | Total   |\n",
      "| 0.02       | 0.028                | 0.026    | 0.050   |\n",
      "| 0.04       | 0.028                | 0.027    | 0.050   |\n",
      "| 0.06       | 0.021                | 0.023    | 0.044   |\n",
      "| 0.08       | 0.017                | 0.034    | 0.051   |\n",
      "| 0.10       | 0.015                | 0.039    | 0.054   |\n",
      "| 0.20       | 0.005                | 0.069    | 0.074   |\n",
      "| 0.40       | 0.002                | 0.086    | 0.088   |\n",
      "| 0.60       | 0.0005              | 0.130    | 0.1305  |\n",
      "| 1.00       | 0.00015             | 0.165    | 0.16515 |\n",
      "| 1.50       | 0.0003              | 0.328    | 0.3283  |\n",
      "\n",
      "For the total probability of an error of more than 1.96σ, the bias has little effect provided that it is less than one tenth of the standard deviation. At this point the total probability is 0.0511 instead of the 0.05 that we think it is. As the bias increases further, the disturbance becomes more serious. At $B = \\sigma$, the total probability of error is 0.17, more than three times the presumed value.\n",
      "\n",
      "The two tails are affected differently. With a positive bias, as in this example, the probability of an underestimate by more than 1.96σ shrinks rapidly from the presumed 0.025 to become negligibly when $B = \\sigma$. The probability of the corresponding overestimate mounts steadily. In most applications, the total error is the primary interest, because usually we are particularly interested in errors in one direction.\n",
      "\n",
      "As a working rule, the effect of bias on the accuracy of an estimate is negligible if the bias is less than one tenth of the standard deviation of the estimate. If we have a biased method of estimation for which $B/\\sigma < 0.1$, where $B$ is the absolute value of the bias, it can be claimed that the bias is not an appreciable disadvantage of the error.\n"
     ]
    }
   ],
   "source": [
    "cochran_pg14_md2 = ocr_single_image_to_markdown(cochran_pg14_img_base64, \n",
    "                                                model = \"gpt-4o-mini\")\n",
    "display_markdown(print(cochran_pg14_md2))"
   ]
  },
  {
   "cell_type": "markdown",
   "metadata": {},
   "source": [
    "## Extract Multiple Image"
   ]
  },
  {
   "cell_type": "code",
   "execution_count": 104,
   "metadata": {},
   "outputs": [],
   "source": [
    "def ocr_image_to_markdown(base64_images: list[str] | str, **kwarg):\n",
    "    \"\"\"Convert one or multiple base64-encoded images to Markdown text.\"\"\"\n",
    "    # Single Image\n",
    "    is_single_image = all([len(x) == 1 for x in base64_images])\n",
    "    if is_single_image:\n",
    "        md_text = ocr_single_image_to_markdown(base64_images, **kwarg)\n",
    "        return md_text\n",
    "    # Multiple Images\n",
    "    try:\n",
    "        \n",
    "        md_text_ls = [ocr_single_image_to_markdown(base64_image, **kwarg) for base64_image in base64_images] \n",
    "        md_text_ls_rm_blank = list(filter(None, md_text_ls)) # Remove blank string (\"\")\n",
    "        md_text = \"\\n\\n---\\n\\n\".join(md_text_ls_rm_blank)\n",
    "        return md_text\n",
    "    \n",
    "    except Exception as e:\n",
    "        print(f\"Error extract Image: {e}\")\n",
    "        return []\n",
    "    "
   ]
  },
  {
   "cell_type": "markdown",
   "metadata": {},
   "source": [
    "### Execute !"
   ]
  },
  {
   "cell_type": "code",
   "execution_count": 105,
   "metadata": {},
   "outputs": [],
   "source": [
    "cochran_img_md_05 = ocr_image_to_markdown(cochran_img_base64[0:5], model = \"gpt-4o-mini\")"
   ]
  },
  {
   "cell_type": "code",
   "execution_count": 106,
   "metadata": {},
   "outputs": [
    {
     "name": "stdout",
     "output_type": "stream",
     "text": [
      "## Sampling Techniques\n",
      "\n",
      "### third edition\n",
      "\n",
      "**WILLIAM G. COCHRAN**  \n",
      "Professor of Statistics, Emeritus  \n",
      "Harvard University\n",
      "\n",
      "---\n",
      "\n",
      "**JOHN WILEY & SONS**  \n",
      "New York • Chichester • Brisbane • Toronto • Singapore\n",
      "\n",
      "---\n",
      "\n",
      "## Copyright\n",
      "\n",
      "Copyright © 1977, by John Wiley & Sons, Inc.  \n",
      "All rights reserved. Published simultaneously in Canada.  \n",
      "\n",
      "Reproduction or translation of any part of this work beyond that permitted by Sections 107 or 108 of the 1976 United States Copyright Act without the permission of the copyright owner is unlawful. Requests for permission or further information should be addressed to the Permissions Department, John Wiley & Sons, Inc.\n",
      "\n",
      "## Library of Congress Cataloging in Publication Data\n",
      "\n",
      "Cochran, William Gemmell, 1909-  \n",
      "Sampling techniques.  \n",
      "\n",
      "(Wiley series in probability and mathematical statistics)  \n",
      "Includes bibliographical references and index.  \n",
      "\n",
      "1. Sampling (Statistics) 1. Title.  \n",
      "QA276.6.C6 1977 001.4222 77-728  \n",
      "ISBN 0-471-16240-X  \n",
      "\n",
      "Printed in the United States of America  \n",
      "\n",
      "40 39 38 37 36  \n",
      "\n",
      "---\n",
      "\n",
      "to Betty\n",
      "\n",
      "---\n",
      "\n",
      "## Preface\n",
      "\n",
      "As did the previous editions, this textbook presents a comprehensive account of sampling theory as it has been developed for use in sample surveys. It contains illustrations to show how the theory is applied in practice, and exercises to be worked by the student. The book will be useful both as a text for a course on sample surveys with the major emphasis on theory and for individual reading by the student.\n",
      "\n",
      "The minimum mathematical equipment necessary to follow the great bulk of the material is a familiarity with algebra, especially relatively complicated algebraic expressions, plus a knowledge of probability for finite sample spaces, including combinatorial probabilities. The book presupposes an introductory statistics course that covers means and standard deviations, the normal, binomial, hypergeometric, and multinomial distributions, the central limit theorem, linear regression, and the simpler types of analyses of variance. Since much of classical sample survey theory deals with the distributions of estimators over the set of randomizations provided by the sampling plan, some knowledge of nonparametric methods is helpful.\n",
      "\n",
      "The topics in this edition are presented in essentially the same order as in earlier editions. New sections have been included, or sections rewritten, primarily for one of three reasons: (1) to present introductions to topics (sampling plans or methods of estimation) relatively new in the field; (2) to cover further work done during the last 15 years on older methods, intended either to improve them or to learn more about their performance; and (3) to shorten, clarify, or simplify proofs given in previous editions.\n",
      "\n",
      "New topics in this edition include the approximate methods developed for the difficult problem of attaching standard errors or confidence limits to nonlinear estimates made from the results of surveys with complex plans. These methods will be more and more needed as statistical analyses (e.g., regressions) are performed on the results. For surveys containing sensitive questions that some respondents are unlikely to be willing to answer truthfully, a new device is to represent the respondent with either the sensitive question or an innocuous question; the specific choice, made by randomization, is unknown to the interviewer. In some sampling problems it may seem economically attractive, or essential in countries with low sampling resources, to use two overlapping lists (for example, as they are called) to cover the complete population. The method of double sampling has been extended to cases where the objective is to compare the means.\n"
     ]
    }
   ],
   "source": [
    "display_markdown(print(cochran_img_md_05))"
   ]
  },
  {
   "cell_type": "code",
   "execution_count": 107,
   "metadata": {},
   "outputs": [],
   "source": [
    "from pathlib import Path\n",
    "\n",
    "file_path = Path(here(\"output/markdown/Cochran_1977_SamplingTechniques_Ch1_1-5.md\"))\n",
    "\n",
    "with open(file_path, 'w', encoding='utf-8') as file:\n",
    "    # Write the string of text to the file\n",
    "    file.write(cochran_img_md_05)"
   ]
  },
  {
   "cell_type": "markdown",
   "metadata": {},
   "source": [
    "### HowTo"
   ]
  },
  {
   "cell_type": "code",
   "execution_count": 100,
   "metadata": {},
   "outputs": [
    {
     "name": "stdout",
     "output_type": "stream",
     "text": [
      "True\n",
      "False\n"
     ]
    }
   ],
   "source": [
    "print(all([len(x) == 1 for x in cochran_img_base64[0]]))\n",
    "print(all([len(x) == 1 for x in cochran_img_base64]))"
   ]
  },
  {
   "cell_type": "code",
   "execution_count": 92,
   "metadata": {},
   "outputs": [
    {
     "data": {
      "text/plain": [
       "['A']"
      ]
     },
     "execution_count": 92,
     "metadata": {},
     "output_type": "execute_result"
    }
   ],
   "source": [
    "# Remove blank string\n",
    "list(filter(None, [\"A\", \"\", \"\"])) "
   ]
  }
 ],
 "metadata": {
  "kernelspec": {
   "display_name": "llm-env",
   "language": "python",
   "name": "python3"
  },
  "language_info": {
   "codemirror_mode": {
    "name": "ipython",
    "version": 3
   },
   "file_extension": ".py",
   "mimetype": "text/x-python",
   "name": "python",
   "nbconvert_exporter": "python",
   "pygments_lexer": "ipython3",
   "version": "3.12.2"
  }
 },
 "nbformat": 4,
 "nbformat_minor": 2
}

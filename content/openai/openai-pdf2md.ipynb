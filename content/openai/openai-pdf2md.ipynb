{
 "cells": [
  {
   "cell_type": "markdown",
   "metadata": {},
   "source": [
    "# PDF to Markdown"
   ]
  },
  {
   "cell_type": "code",
   "execution_count": 28,
   "metadata": {},
   "outputs": [],
   "source": [
    "from pyhere import here\n",
    "import sys\n",
    "import os\n",
    "from openai import OpenAI\n",
    "from IPython.display import display_markdown\n",
    "\n",
    "sys.path.append(os.path.abspath('../../src'))\n",
    "\n",
    "api_key = os.getenv(\"OPENAI_API_KEY\")\n",
    "client = OpenAI(api_key=api_key)"
   ]
  },
  {
   "cell_type": "markdown",
   "metadata": {},
   "source": [
    "## Extract: PDF -> Base64 Image"
   ]
  },
  {
   "cell_type": "code",
   "execution_count": 19,
   "metadata": {},
   "outputs": [],
   "source": [
    "from pdftools.pdf2image import pdf_to_base64_images"
   ]
  },
  {
   "cell_type": "code",
   "execution_count": 35,
   "metadata": {},
   "outputs": [],
   "source": [
    "cochran_img_base64 = pdf_to_base64_images(here(\"pdf/textbook/Cochran_1977_SamplingTechniques_Ch1.pdf\"))"
   ]
  },
  {
   "cell_type": "markdown",
   "metadata": {},
   "source": [
    "## LLM: OCR to Markdown"
   ]
  },
  {
   "cell_type": "code",
   "execution_count": 96,
   "metadata": {},
   "outputs": [],
   "source": [
    "def ocr_single_image_to_markdown(base64_image, \n",
    "                                 model = \"gpt-4o\",\n",
    "                                 md_format = \"Github-flavored markdown\",\n",
    "                                 heading_lv_max = \"H2\"\n",
    "                                 ):\n",
    "    system_prompt = f\"\"\"\n",
    "    You are an advanced OCR-based data extraction tool designed to convert text, tables, and structured content from images into {md_format}. Ensure the output retains the original layout and information integrity as closely as possible. Include headers, bullet points, or tables where appropriate, and optimize for readability in Markdown syntax.\n",
    "    - The maximal heading level is {heading_lv_max}. \n",
    "    - Return markdown text output without enclosing in code block. If the image is blank or no appropriate content can be extracted, return empty text string (\"\").  \n",
    "    \"\"\"\n",
    "    \n",
    "    response = client.chat.completions.create(\n",
    "        model=model,\n",
    "        messages=[\n",
    "            {\n",
    "                \"role\": \"system\",\n",
    "                \"content\": system_prompt\n",
    "            },\n",
    "            {\n",
    "                \"role\": \"user\",\n",
    "                \"content\": [\n",
    "                    {\"type\": \"text\", \"text\": \"Convert data from this image to markdown text\"},\n",
    "                    {\"type\": \"image_url\", \"image_url\": {\"url\": f\"data:image/png;base64,{base64_image}\", \"detail\": \"high\"}}\n",
    "                ]\n",
    "            }\n",
    "        ],\n",
    "        temperature=0.0,\n",
    "    )\n",
    "    return response.choices[0].message.content\n"
   ]
  },
  {
   "cell_type": "markdown",
   "metadata": {},
   "source": [
    "## Extract One Image"
   ]
  },
  {
   "cell_type": "code",
   "execution_count": 72,
   "metadata": {},
   "outputs": [],
   "source": [
    "cochran_img_md_0 = ocr_single_image_to_markdown(cochran_img_base64)"
   ]
  },
  {
   "cell_type": "code",
   "execution_count": 44,
   "metadata": {},
   "outputs": [
    {
     "name": "stdout",
     "output_type": "stream",
     "text": [
      "## Sampling Techniques\n",
      "\n",
      "*third edition*\n",
      "\n",
      "**WILLIAM G. COCHRAN**  \n",
      "*Professor of Statistics, Emeritus  \n",
      "Harvard University*\n",
      "\n",
      "**JOHN WILEY & SONS**  \n",
      "New York • Chichester • Brisbane • Toronto • Singapore\n"
     ]
    }
   ],
   "source": [
    "display_markdown(print(cochran_img_md_0))"
   ]
  },
  {
   "cell_type": "markdown",
   "metadata": {},
   "source": [
    "## Extract Multiple Image"
   ]
  },
  {
   "cell_type": "code",
   "execution_count": 95,
   "metadata": {},
   "outputs": [],
   "source": [
    "def ocr_image_to_markdown(base64_images: list[str] | str, **kwarg):\n",
    "    \n",
    "    # Single Image\n",
    "    is_single_image = all([len(x) == 1 for x in base64_images])\n",
    "    if is_single_image:\n",
    "        md_text = ocr_single_image_to_markdown(base64_images, **kwarg)\n",
    "        return md_text\n",
    "    # Multiple Images\n",
    "    try:\n",
    "        \n",
    "        md_text_ls = [ocr_single_image_to_markdown(base64_image, **kwarg) for base64_image in base64_images] \n",
    "        md_text_ls_rm_blank = list(filter(None, md_text_ls)) # Remove blank string (\"\")\n",
    "        md_text = \"\\n\\n---\\n\\n\".join(md_text_ls_rm_blank)\n",
    "        return md_text\n",
    "    \n",
    "    except Exception as e:\n",
    "        print(f\"Error extract Image: {e}\")\n",
    "        return []\n",
    "    "
   ]
  },
  {
   "cell_type": "code",
   "execution_count": 97,
   "metadata": {},
   "outputs": [],
   "source": [
    "cochran_img_md_05 = ocr_image_to_markdown(cochran_img_base64[0:5], model = \"gpt-4o-mini\")"
   ]
  },
  {
   "cell_type": "code",
   "execution_count": 98,
   "metadata": {},
   "outputs": [
    {
     "name": "stdout",
     "output_type": "stream",
     "text": [
      "# Sampling Techniques\n",
      "\n",
      "## third edition\n",
      "\n",
      "**WILLIAM G. COCHRAN**  \n",
      "Professor of Statistics, Emeritus  \n",
      "Harvard University\n",
      "\n",
      "---\n",
      "\n",
      "**JOHN WILEY & SONS**  \n",
      "New York • Chichester • Brisbane • Toronto • Singapore\n",
      "\n",
      "---\n",
      "\n",
      "Copyright © 1977, by John Wiley & Sons, Inc.  \n",
      "All rights reserved. Published simultaneously in Canada.  \n",
      "\n",
      "Reproduction or translation of any part of this work beyond that permitted by Sections 107 or 108 of the 1976 United States Copyright Act without the permission of the copyright owner is unlawful. Requests for permission or further information should be addressed to the Permissions Department, John Wiley & Sons, Inc.  \n",
      "\n",
      "## Library of Congress Cataloging in Publication Data:  \n",
      "Cochran, William Gemmell, 1909-  \n",
      "Sampling techniques.  \n",
      "\n",
      "(Wiley series in probability and mathematical statistics)  \n",
      "Includes bibliographical references and index.  \n",
      "1. Sampling (Statistics) 1. Title.  \n",
      "\n",
      "QA276.6.C6 1977 001.4222 77-728  \n",
      "ISBN 0-471-16240-X  \n",
      "\n",
      "Printed in the United States of America  \n",
      "\n",
      "40 39 38 37 36  \n",
      "\n",
      "---\n",
      "\n",
      "to Betty\n",
      "\n",
      "---\n",
      "\n",
      "# Preface\n",
      "\n",
      "As did the previous editions, this textbook presents a comprehensive account of sampling theory as it has been developed for use in sample surveys. It contains illustrations to show how the theory is applied in practice, and exercises to be worked by the student. The book will be useful both as a text for a course on sample surveys with the major emphasis on theory and for individual reading by the student.\n",
      "\n",
      "The minimum mathematical equipment necessary to follow the great bulk of the material is a familiarity with algebra, especially relatively complicated algebraic expressions, plus a knowledge of probability for finite sample spaces, including combinatorial probabilities. The book presupposes an introductory statistics course that covers means and standard deviations, the normal, binomial, hypergeometric, and multinomial distributions, the central limit theorem, linear regression, and the simpler types of analyses of variance. Since much of classical sample survey theory deals with the distributions of estimators over the set of randomizations provided by the sampling plan, some knowledge of nonparametric methods is helpful.\n",
      "\n",
      "The topics in this edition are presented in essentially the same order as in earlier editions. New sections have been included, or sections rewritten, primarily for one of three reasons: (1) to present introductions to topics (sampling plans or methods of estimation) relatively new in the field; (2) to cover further work done during the last 15 years on older methods, intended either to improve them or to learn more about their performance; and (3) to shorten, clarify, or simplify proofs given in previous editions.\n",
      "\n",
      "New topics in this edition include the approximate methods developed for the difficult problem of attaching standard errors or confidence limits to nonlinear estimates made from the results of surveys with complex plans. These methods will be more and more needed as statistical analyses (e.g., regressions) are performed on the results. For surveys containing sensitive questions that some respondents are unlikely to be willing to answer truthfully, a new device is to represent the respondent with either the sensitive question or an innocuous question; the specific choice, made by randomization, is unknown to the interviewer. In some sampling problems it may seem economically attractive, or essential in countries with low sampling resources, to use two overlapping lists (for frames, as they are called) to cover the complete population. The method of double sampling has been extended to cases where the objective is to compare the means.\n"
     ]
    }
   ],
   "source": [
    "display_markdown(print(cochran_img_md_05))"
   ]
  },
  {
   "cell_type": "markdown",
   "metadata": {},
   "source": [
    "### HowTo"
   ]
  },
  {
   "cell_type": "code",
   "execution_count": null,
   "metadata": {},
   "outputs": [
    {
     "data": {
      "text/plain": [
       "True"
      ]
     },
     "metadata": {},
     "output_type": "display_data"
    }
   ],
   "source": [
    "all([len(x) == 1 for x in cochran_img_base64[0]])"
   ]
  },
  {
   "cell_type": "code",
   "execution_count": 92,
   "metadata": {},
   "outputs": [
    {
     "data": {
      "text/plain": [
       "['A']"
      ]
     },
     "execution_count": 92,
     "metadata": {},
     "output_type": "execute_result"
    }
   ],
   "source": [
    "# Remove blank string\n",
    "list(filter(None, [\"A\", \"\", \"\"])) "
   ]
  }
 ],
 "metadata": {
  "kernelspec": {
   "display_name": "llm-env",
   "language": "python",
   "name": "python3"
  },
  "language_info": {
   "codemirror_mode": {
    "name": "ipython",
    "version": 3
   },
   "file_extension": ".py",
   "mimetype": "text/x-python",
   "name": "python",
   "nbconvert_exporter": "python",
   "pygments_lexer": "ipython3",
   "version": "3.12.2"
  }
 },
 "nbformat": 4,
 "nbformat_minor": 2
}
